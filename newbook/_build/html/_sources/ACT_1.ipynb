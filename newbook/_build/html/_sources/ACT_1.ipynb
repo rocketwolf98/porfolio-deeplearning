{
 "cells": [
  {
   "cell_type": "markdown",
   "id": "4b2d9daf-cd5a-49f7-8c60-926db508826d",
   "metadata": {},
   "source": [
    "# PyTorch Basics<br>\n",
    "By Kenneth Lim"
   ]
  },
  {
   "cell_type": "markdown",
   "id": "66ba5816",
   "metadata": {},
   "source": [
    "Given with this simple pipeline, we will try out how PyTorch works with this simple academic activity from my Deep Learning Class."
   ]
  },
  {
   "cell_type": "markdown",
   "id": "fc440bb1-f143-4666-9e49-c062fd6e8a31",
   "metadata": {},
   "source": [
    "1. Perform Standard Imports"
   ]
  },
  {
   "cell_type": "code",
   "execution_count": 5,
   "id": "67b65dd2-0c74-491c-9d15-663eb801063a",
   "metadata": {},
   "outputs": [],
   "source": [
    "import torch\n",
    "import numpy as np\n",
    "import sys\n",
    "import random"
   ]
  },
  {
   "cell_type": "markdown",
   "id": "9ed8c8c2-dcc9-4c54-a2e4-c9cbf2c5ff2b",
   "metadata": {},
   "source": [
    "2. Create a function called set_seed() that accepts seed: int as a parameter, this function must return nothing but just set the seed to a certain value."
   ]
  },
  {
   "cell_type": "code",
   "execution_count": 30,
   "id": "04f20734-36ab-42a1-ade7-705522826b9b",
   "metadata": {},
   "outputs": [],
   "source": [
    "def set_seed(seed:int):\n",
    "    torch.manual_seed(seed)\n",
    "    return None"
   ]
  },
  {
   "cell_type": "markdown",
   "id": "f54cce47-62a2-4e10-b0a4-3576761d560d",
   "metadata": {},
   "source": [
    "3. Create a NumPy array called \"arr\" that contains 6 random integers between 0 (inclusive) and 5 (exclusive), call the set_seed() function and use 42 as the seed parameter."
   ]
  },
  {
   "cell_type": "code",
   "execution_count": 31,
   "id": "d2b33a7a-9558-43af-981f-1246c82c237a",
   "metadata": {},
   "outputs": [],
   "source": [
    "arr = np.array([0,2,4,3,1,3])\n",
    "set_seed(42)"
   ]
  },
  {
   "cell_type": "markdown",
   "id": "dd39470e-6fd6-4228-8360-72186f1c8dcc",
   "metadata": {},
   "source": [
    "4. Create a tensor \"x\" from the array above"
   ]
  },
  {
   "cell_type": "code",
   "execution_count": 32,
   "id": "bddb1c87-446a-42ee-9439-8a6d6ae0ed9c",
   "metadata": {},
   "outputs": [],
   "source": [
    "x = torch.from_numpy(arr)"
   ]
  },
  {
   "cell_type": "markdown",
   "id": "545f72d4-b065-4f48-b664-c5f93a3d627d",
   "metadata": {},
   "source": [
    "5. Change the dtype of x from int32 to int64"
   ]
  },
  {
   "cell_type": "code",
   "execution_count": 33,
   "id": "d02dc72f-ab71-473e-8c8c-fa10346e4c03",
   "metadata": {},
   "outputs": [],
   "source": [
    "x = x.type(torch.int64)"
   ]
  },
  {
   "cell_type": "markdown",
   "id": "def13458-66bb-4ec7-949f-9675001634c2",
   "metadata": {},
   "source": [
    "6. Reshape x into a 3x2 tensor \\\n",
    "*There are several ways to do this*"
   ]
  },
  {
   "cell_type": "code",
   "execution_count": 34,
   "id": "715f643f-a5af-4091-a065-9bc345d4f271",
   "metadata": {},
   "outputs": [
    {
     "data": {
      "text/plain": [
       "tensor([[0, 2],\n",
       "        [4, 3],\n",
       "        [1, 3]])"
      ]
     },
     "execution_count": 34,
     "metadata": {},
     "output_type": "execute_result"
    }
   ],
   "source": [
    "x = x.view(3,2)\n",
    "x"
   ]
  },
  {
   "cell_type": "markdown",
   "id": "283d8707-5ae6-482e-90fb-fde13abb10da",
   "metadata": {},
   "source": [
    "7. Return the right-hand column of tensor x"
   ]
  },
  {
   "cell_type": "code",
   "execution_count": 35,
   "id": "6c71bcb2-cb82-4421-a048-597b4c27083a",
   "metadata": {},
   "outputs": [
    {
     "data": {
      "text/plain": [
       "tensor([2, 3, 3])"
      ]
     },
     "execution_count": 35,
     "metadata": {},
     "output_type": "execute_result"
    }
   ],
   "source": [
    "x[:,1]"
   ]
  },
  {
   "cell_type": "markdown",
   "id": "4ba7da5f-d39a-4ff9-b819-df7983cf5964",
   "metadata": {},
   "source": [
    "8. Without changing x, return a tensor of square values of x \\\n",
    "*There are several ways to do this.*"
   ]
  },
  {
   "cell_type": "code",
   "execution_count": 36,
   "id": "62d484e7-1c15-44f1-9b26-c8ebcb230c7a",
   "metadata": {},
   "outputs": [
    {
     "data": {
      "text/plain": [
       "tensor([[ 0,  4],\n",
       "        [16,  9],\n",
       "        [ 1,  9]])"
      ]
     },
     "execution_count": 36,
     "metadata": {},
     "output_type": "execute_result"
    }
   ],
   "source": [
    "x_squared = x ** 2\n",
    "x_squared"
   ]
  },
  {
   "cell_type": "markdown",
   "id": "13aab3ef-eab8-410e-b537-a1027d54abbc",
   "metadata": {},
   "source": [
    "9. Create a tensor y with the same number of elements as x, that can be matrix-multiplied with x \\\n",
    "   *Use PyTorch directly (not NumPy) to create a tensor of random integers between 0 (inclusive) and 5 (exclusive). Use 42 as seed.\n",
    "Think about what shape it should have to permit matrix multiplication.*"
   ]
  },
  {
   "cell_type": "code",
   "execution_count": 40,
   "id": "5b7715f0-75f3-4800-9441-e3da74ff805c",
   "metadata": {},
   "outputs": [
    {
     "data": {
      "text/plain": [
       "tensor([[2, 2, 1],\n",
       "        [4, 1, 0]])"
      ]
     },
     "execution_count": 40,
     "metadata": {},
     "output_type": "execute_result"
    }
   ],
   "source": [
    "set_seed(42)\n",
    "y = torch.randint(0,5,(2,3))\n",
    "y"
   ]
  },
  {
   "cell_type": "markdown",
   "id": "bc825dc2-0fa4-4ace-bf12-f123cbffa680",
   "metadata": {},
   "source": [
    "\n",
    "10. Find the matrix product of x and y."
   ]
  },
  {
   "cell_type": "code",
   "execution_count": 38,
   "id": "d40546bf-7f9b-456e-80be-dafdcd0fa2cb",
   "metadata": {},
   "outputs": [
    {
     "data": {
      "text/plain": [
       "tensor([[ 8,  2,  0],\n",
       "        [20, 11,  4],\n",
       "        [14,  5,  1]])"
      ]
     },
     "execution_count": 38,
     "metadata": {},
     "output_type": "execute_result"
    }
   ],
   "source": [
    "torch.matmul(x,y)"
   ]
  },
  {
   "cell_type": "code",
   "execution_count": 29,
   "id": "1de2b0c4-620f-461e-bfdc-20b8275db06e",
   "metadata": {},
   "outputs": [
    {
     "data": {
      "text/plain": [
       "tensor([[ 8,  2,  0],\n",
       "        [20, 11,  4],\n",
       "        [14,  5,  1]])"
      ]
     },
     "execution_count": 29,
     "metadata": {},
     "output_type": "execute_result"
    }
   ],
   "source": [
    "torch.mm(x,y)"
   ]
  },
  {
   "cell_type": "markdown",
   "id": "7007148f-df36-411b-be84-976db935321a",
   "metadata": {},
   "source": [
    "So there we go! From simple data transformations and conversions that gives you the best essentials on dealing with some deep learning projects."
   ]
  },
  {
   "cell_type": "markdown",
   "id": "75218653",
   "metadata": {},
   "source": []
  }
 ],
 "metadata": {
  "kernelspec": {
   "display_name": "Python 3 (ipykernel)",
   "language": "python",
   "name": "python3"
  },
  "language_info": {
   "codemirror_mode": {
    "name": "ipython",
    "version": 3
   },
   "file_extension": ".py",
   "mimetype": "text/x-python",
   "name": "python",
   "nbconvert_exporter": "python",
   "pygments_lexer": "ipython3",
   "version": "3.9.23"
  }
 },
 "nbformat": 4,
 "nbformat_minor": 5
}
