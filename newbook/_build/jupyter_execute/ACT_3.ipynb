{
 "cells": [
  {
   "cell_type": "markdown",
   "metadata": {
    "id": "KtmDgunsxMvm"
   },
   "source": [
    "# Creating a Backpropagation Pipeline <br>"
   ]
  },
  {
   "cell_type": "markdown",
   "metadata": {
    "id": "sUT0NTqAHV8d"
   },
   "source": [
    "Now we are programmatically making on how to simulate someone who did a review. Since forward pass sounds like someone who just never learned anything, introducting backpropagation means having a chance to rethink and review for our model to generalize properly."
   ]
  },
  {
   "cell_type": "markdown",
   "metadata": {
    "id": "_27QvKIAxVGc"
   },
   "source": [
    "We will start by importing our essential packages"
   ]
  },
  {
   "cell_type": "code",
   "execution_count": 1,
   "metadata": {
    "id": "4l2p1Rz9xY20"
   },
   "outputs": [],
   "source": [
    "import numpy as np"
   ]
  },
  {
   "cell_type": "markdown",
   "metadata": {
    "id": "u46ZNHZKxfx8"
   },
   "source": [
    "Moving on with our pipeline"
   ]
  },
  {
   "cell_type": "code",
   "execution_count": 2,
   "metadata": {
    "id": "T6z9px6Mxh8X"
   },
   "outputs": [],
   "source": [
    "x = np.array([1,0,1])\n",
    "y = 1.0"
   ]
  },
  {
   "cell_type": "code",
   "execution_count": 3,
   "metadata": {
    "id": "Rz3byeLKxlFf"
   },
   "outputs": [],
   "source": [
    "#Loading properties from previous activity\n",
    "w1 = np.array([[0.2, -0.3],\n",
    "               [0.4, 0.1],\n",
    "               [-0.5, 0.2]])\n",
    "bias = np.array([-0.4, 0.2, 0.1])\n",
    "w2 = np.array([-0.3, 0.2])"
   ]
  },
  {
   "cell_type": "code",
   "execution_count": 4,
   "metadata": {
    "id": "q5upjNsFx58P"
   },
   "outputs": [],
   "source": [
    "def relu(z): return np.maximum(0, z)"
   ]
  },
  {
   "cell_type": "code",
   "execution_count": 5,
   "metadata": {
    "id": "TJfl3yk0x_LG"
   },
   "outputs": [],
   "source": [
    "z_hidden = x.dot(w1) + bias[:2]\n",
    "a_hidden = relu(z_hidden)\n",
    "z_out = a_hidden.dot(w2) + bias[2]\n",
    "y_hat = z_out"
   ]
  },
  {
   "cell_type": "code",
   "execution_count": 6,
   "metadata": {
    "id": "fNDqDfY2yUa6"
   },
   "outputs": [],
   "source": [
    "sse = (y - y_hat) ** 2\n",
    "half_mse = 0.5 * sse"
   ]
  },
  {
   "cell_type": "code",
   "execution_count": 7,
   "metadata": {
    "colab": {
     "base_uri": "https://localhost:8080/"
    },
    "id": "1u858M4Dyvg3",
    "outputId": "c2982529-adcc-4bcf-9559-a41d11194e27"
   },
   "outputs": [
    {
     "name": "stdout",
     "output_type": "stream",
     "text": [
      "z_hidden: [-0.7  0.1]\n",
      "a_hidden: [0.  0.1]\n",
      "y_hat: 0.12000000000000001\n",
      "SSE: 0.7744\n",
      "0.5 * SSE: 0.3872\n"
     ]
    }
   ],
   "source": [
    "print(\"z_hidden:\", z_hidden)\n",
    "print(\"a_hidden:\", a_hidden)\n",
    "print(\"y_hat:\", y_hat)\n",
    "print(\"SSE:\", sse)\n",
    "print(\"0.5 * SSE:\", half_mse)"
   ]
  },
  {
   "cell_type": "markdown",
   "metadata": {
    "id": "0rzbXz0ezB6c"
   },
   "source": [
    "We did achieve the same result from our manual calculation in our forward pass earlier, albeit in a programmatical manner"
   ]
  },
  {
   "cell_type": "markdown",
   "metadata": {
    "id": "2eca98ff"
   },
   "source": [
    "At this rate, we will perform a backpropagation task."
   ]
  },
  {
   "cell_type": "markdown",
   "metadata": {
    "id": "340881e5"
   },
   "source": [
    "In this first part, we will subtract the real observed value to the predicted value, which is our error and serve as our gradient loss."
   ]
  },
  {
   "cell_type": "code",
   "execution_count": 8,
   "metadata": {
    "colab": {
     "base_uri": "https://localhost:8080/"
    },
    "id": "N6A-Wd-uDKVA",
    "outputId": "12f0ba0a-447f-4b5c-957c-56de55cfcd64"
   },
   "outputs": [
    {
     "data": {
      "text/plain": [
       "np.float64(0.88)"
      ]
     },
     "execution_count": 8,
     "metadata": {},
     "output_type": "execute_result"
    }
   ],
   "source": [
    "dL_dyhat = -(y_hat-y)\n",
    "dL_dyhat"
   ]
  },
  {
   "cell_type": "code",
   "execution_count": 9,
   "metadata": {
    "colab": {
     "base_uri": "https://localhost:8080/"
    },
    "id": "P2Iezv30DYjI",
    "outputId": "58fa6c76-c412-4eaf-c348-cdb678ab1e69"
   },
   "outputs": [
    {
     "data": {
      "text/plain": [
       "array([0.   , 0.088])"
      ]
     },
     "execution_count": 9,
     "metadata": {},
     "output_type": "execute_result"
    }
   ],
   "source": [
    "dL_dW2  = a_hidden * dL_dyhat\n",
    "dL_dW2"
   ]
  },
  {
   "cell_type": "code",
   "execution_count": 10,
   "metadata": {
    "id": "Ey0yWpiCELbI"
   },
   "outputs": [],
   "source": [
    "dL_dtheta3 = dL_dyhat"
   ]
  },
  {
   "cell_type": "markdown",
   "metadata": {
    "id": "D4RdJViIEhAs"
   },
   "source": [
    "Now we move in calculating the hidden layer..."
   ]
  },
  {
   "cell_type": "code",
   "execution_count": 11,
   "metadata": {
    "id": "Z8nEa_Y1Ef8e"
   },
   "outputs": [],
   "source": [
    "dL_da_hidden = w2 * dL_dyhat"
   ]
  },
  {
   "cell_type": "markdown",
   "metadata": {
    "id": "IRj2m1YxE1L0"
   },
   "source": [
    "We did multiply the loss from our previous layer."
   ]
  },
  {
   "cell_type": "code",
   "execution_count": 12,
   "metadata": {
    "id": "GBWBDbJ1E0GQ"
   },
   "outputs": [],
   "source": [
    "#Now we are taking the deribative from ReLU\n",
    "dL_dz_hidden = dL_da_hidden * (z_hidden > 0).astype(float)"
   ]
  },
  {
   "cell_type": "code",
   "execution_count": 13,
   "metadata": {
    "id": "iaUm7YKaFfz9"
   },
   "outputs": [],
   "source": [
    "dL_dW1 = np.outer(x, dL_dz_hidden)\n",
    "dL_dtheta12 = dL_dz_hidden"
   ]
  },
  {
   "cell_type": "code",
   "execution_count": 14,
   "metadata": {
    "colab": {
     "base_uri": "https://localhost:8080/"
    },
    "id": "FzFQMZAfFpqQ",
    "outputId": "4d7ec497-5ffb-424f-d336-189e612d22ea"
   },
   "outputs": [
    {
     "name": "stdout",
     "output_type": "stream",
     "text": [
      "\n",
      "Backward pass (gradients):\n",
      "dL/dW2: [0.    0.088]\n",
      "dL/dtheta3: 0.88\n",
      "dL/dW1:\n",
      " [[-0.     0.176]\n",
      " [-0.     0.   ]\n",
      " [-0.     0.176]]\n",
      "dL/dtheta1,2: [-0.     0.176]\n"
     ]
    }
   ],
   "source": [
    "print(\"\\nBackward pass (gradients):\")\n",
    "print(\"dL/dW2:\", dL_dW2)\n",
    "print(\"dL/dtheta3:\", dL_dtheta3)\n",
    "print(\"dL/dW1:\\n\", dL_dW1)\n",
    "print(\"dL/dtheta1,2:\", dL_dtheta12)"
   ]
  },
  {
   "cell_type": "markdown",
   "metadata": {
    "id": "II2ARtAGGEKp"
   },
   "source": [
    "Let's introduce the learning rate"
   ]
  },
  {
   "cell_type": "code",
   "execution_count": 15,
   "metadata": {
    "id": "jMowfWgaFrfM"
   },
   "outputs": [],
   "source": [
    "lr = 0.001"
   ]
  },
  {
   "cell_type": "code",
   "execution_count": 16,
   "metadata": {
    "id": "-e98JP0QGPsT"
   },
   "outputs": [],
   "source": [
    "w2 -= lr * dL_dW2\n",
    "bias[2] -= lr * dL_dtheta3\n",
    "w1 -= lr * dL_dW1\n",
    "bias[:2] -= lr * dL_dtheta12"
   ]
  },
  {
   "cell_type": "code",
   "execution_count": 17,
   "metadata": {
    "colab": {
     "base_uri": "https://localhost:8080/"
    },
    "id": "gDtvqyGGGSJv",
    "outputId": "2138a6ac-85a7-4d70-8d5a-1bd72d886064"
   },
   "outputs": [
    {
     "name": "stdout",
     "output_type": "stream",
     "text": [
      "\n",
      "Updated parameters:\n",
      "W1:\n",
      " [[ 0.2      -0.300176]\n",
      " [ 0.4       0.1     ]\n",
      " [-0.5       0.199824]]\n",
      "theta[:2]: [-0.4       0.199824]\n",
      "W2: [-0.3       0.199912]\n",
      "theta3: 0.09912\n"
     ]
    }
   ],
   "source": [
    "print(\"\\nUpdated parameters:\")\n",
    "print(\"W1:\\n\", w1)\n",
    "print(\"theta[:2]:\", bias[:2])\n",
    "print(\"W2:\", w2)\n",
    "print(\"theta3:\", bias[2])"
   ]
  },
  {
   "cell_type": "markdown",
   "metadata": {
    "id": "9xCX22pIG8Jk"
   },
   "source": [
    "Let's pass it again to see with the new parameters:"
   ]
  },
  {
   "cell_type": "code",
   "execution_count": 18,
   "metadata": {
    "id": "MTAWMQpBGeQd"
   },
   "outputs": [],
   "source": [
    "z_hidden = x.dot(w1) + bias[:2]\n",
    "a_hidden = relu(z_hidden)\n",
    "z_out = a_hidden.dot(w2) + bias[2]\n",
    "y_hat = z_out"
   ]
  },
  {
   "cell_type": "code",
   "execution_count": 19,
   "metadata": {
    "id": "MpYBWaByG_D2"
   },
   "outputs": [],
   "source": [
    "sse = (y - y_hat) ** 2\n",
    "half_mse = 0.5 * sse"
   ]
  },
  {
   "cell_type": "code",
   "execution_count": 20,
   "metadata": {
    "colab": {
     "base_uri": "https://localhost:8080/"
    },
    "id": "W0XNss8bHCFj",
    "outputId": "f91d5cee-37cb-4602-eeac-6ca970135f5b"
   },
   "outputs": [
    {
     "name": "stdout",
     "output_type": "stream",
     "text": [
      "z_hidden: [-0.7       0.099472]\n",
      "a_hidden: [0.       0.099472]\n",
      "y_hat: 0.119005646464\n",
      "SSE: 0.7761510509623145\n",
      "0.5 * SSE: 0.38807552548115726\n"
     ]
    }
   ],
   "source": [
    "print(\"z_hidden:\", z_hidden)\n",
    "print(\"a_hidden:\", a_hidden)\n",
    "print(\"y_hat:\", y_hat)\n",
    "print(\"SSE:\", sse)\n",
    "print(\"0.5 * SSE:\", half_mse)"
   ]
  },
  {
   "cell_type": "markdown",
   "metadata": {
    "id": "cECtvneaHHPj"
   },
   "source": [
    "Somehow it's learning anything given that our SSE has reduced. If we take into multiple steps, this can give our very bare bones model the ability to predict the best value."
   ]
  },
  {
   "cell_type": "code",
   "execution_count": null,
   "metadata": {
    "id": "FYSuOVK7HU9y"
   },
   "outputs": [],
   "source": []
  }
 ],
 "metadata": {
  "colab": {
   "provenance": []
  },
  "kernelspec": {
   "display_name": "Python 3",
   "name": "python3"
  },
  "language_info": {
   "codemirror_mode": {
    "name": "ipython",
    "version": 3
   },
   "file_extension": ".py",
   "mimetype": "text/x-python",
   "name": "python",
   "nbconvert_exporter": "python",
   "pygments_lexer": "ipython3",
   "version": "3.12.1"
  }
 },
 "nbformat": 4,
 "nbformat_minor": 0
}