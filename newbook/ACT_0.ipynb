{
 "cells": [
  {
   "cell_type": "markdown",
   "id": "68a71350",
   "metadata": {},
   "source": [
    "# When AI Takes the Universe"
   ]
  },
  {
   "cell_type": "markdown",
   "id": "12851682",
   "metadata": {},
   "source": [
    "![why it does not load](image.webp)"
   ]
  },
  {
   "cell_type": "markdown",
   "id": "e0287336",
   "metadata": {},
   "source": [
    "AI is now ingrained in our daily lives from deciding what to listen to next on your music streaming app to performing code completions that you are not certain of. Given that this media was released six years ago, its implications continue to resonate today as we face the modern-day AI race, with developers creating the best models to provide our needs and end-users benefiting from what AI offers. <br>\n",
    "\n",
    "As we dig into this video, what I understood is that Machine Learning, a subset of AI, is directly changing us regardless of age and has varying opinions on ethics, public safety, and workflow benefits. We also see hobbyists trying bleeding-edge technologies for entertainment or general benefit. As mentioned in the video, technology has been evolving super fast—six years later, we've witnessed AI technologies that every end-user benefits from, such as AI models that can \"infer\" and generate ideas, even reaching toward AGI (Artificial General Intelligence) that could theoretically match or surpass human cognition. <br>\n",
    "\n",
    "On the other hand, we see concerns that AI might threaten industries, public safety, and trust. Deepfakes, which reanimate individuals as altered digital versions, have evolved into advanced forms with Generative AI technologies like video models or sophisticated rotoscopes of dance crazes. Big companies creating models face questions about training transparency, increasing public trust doubts. We also face challenges including intellectual property rights in music and art, where using owned properties without permission raises industry concerns. <br>\n",
    "\n",
    "Through this video, I realized that AI progress is moving super fast—it feels like a race. Unlike years ago when we were confined to simple chatbots, we now deal with sophisticated ones that can do math. It affects us regardless of who we are while generating diverse opinions on benefits and concerns. AI is such a powerful concept that it has become a tool changing how we interact with the world. Given that progressis inevitable, adjustments are needed, and technologies like these should complement us, not replace us."
   ]
  },
  {
   "cell_type": "markdown",
   "id": "76ba58ea",
   "metadata": {},
   "source": []
  }
 ],
 "metadata": {
  "language_info": {
   "name": "python"
  }
 },
 "nbformat": 4,
 "nbformat_minor": 5
}
